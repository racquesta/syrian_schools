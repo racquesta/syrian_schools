{
 "cells": [
  {
   "cell_type": "code",
   "execution_count": 1,
   "metadata": {
    "collapsed": true
   },
   "outputs": [],
   "source": [
    "import pymongo\n",
    "from mLabsignin import username, password\n",
    "import pandas as pd\n",
    "\n",
    "#establish connection to db\n",
    "conn = 'mongodb://%s:%s@ds149905.mlab.com:49905/heroku_236cmwk4' % (username, password)\n",
    "client = pymongo.MongoClient(conn)\n",
    "\n",
    "#url = \"http://sn4hr.org/page/\" + num + \"/?s=school\"\n",
    "\n",
    "#define db\n",
    "db = client.heroku_236cmwk4\n",
    "\n",
    "#define collection\n",
    "collection = db.school_attacks\n"
   ]
  },
  {
   "cell_type": "code",
   "execution_count": 2,
   "metadata": {
    "collapsed": true
   },
   "outputs": [],
   "source": [
    "cursor = collection.find()\n",
    "results = list(cursor)"
   ]
  },
  {
   "cell_type": "code",
   "execution_count": 25,
   "metadata": {
    "collapsed": true
   },
   "outputs": [],
   "source": [
    "title_text = []\n",
    "title_text_lower = []\n",
    "body_text = []\n",
    "body_text_lower = []\n",
    "pub_date = []\n",
    "article_link = []\n",
    "\n",
    "for result in results:\n",
    "    title_text.append(result[\"title_lowercase\"])\n",
    "    body_text.append(result[\"article_text_lower\"])\n",
    "    pub_date.append(result[\"date_published\"])\n",
    "    article_link.append(result[\"article_link\"])\n",
    "\n",
    "df = pd.DataFrame({\n",
    "    \"title\": title_text,\n",
    "    \"body_text\": body_text,\n",
    "    \"pub_date\": pub_date,\n",
    "    \"article_link\": article_link\n",
    "})"
   ]
  },
  {
   "cell_type": "code",
   "execution_count": 26,
   "metadata": {},
   "outputs": [
    {
     "data": {
      "text/html": [
       "<div>\n",
       "<style>\n",
       "    .dataframe thead tr:only-child th {\n",
       "        text-align: right;\n",
       "    }\n",
       "\n",
       "    .dataframe thead th {\n",
       "        text-align: left;\n",
       "    }\n",
       "\n",
       "    .dataframe tbody tr th {\n",
       "        vertical-align: top;\n",
       "    }\n",
       "</style>\n",
       "<table border=\"1\" class=\"dataframe\">\n",
       "  <thead>\n",
       "    <tr style=\"text-align: right;\">\n",
       "      <th></th>\n",
       "      <th>article_link</th>\n",
       "      <th>body_text</th>\n",
       "      <th>pub_date</th>\n",
       "      <th>title</th>\n",
       "    </tr>\n",
       "  </thead>\n",
       "  <tbody>\n",
       "    <tr>\n",
       "      <th>0</th>\n",
       "      <td>http://sn4hr.org/blog/2017/10/31/syrian-regime...</td>\n",
       "      <td>\\nsnhr: syrian regime artillery fired shells i...</td>\n",
       "      <td>October 31, 2017</td>\n",
       "      <td>syrian regime forces shelled mohammad naser as...</td>\n",
       "    </tr>\n",
       "    <tr>\n",
       "      <th>1</th>\n",
       "      <td>http://sn4hr.org/blog/2017/10/25/syrian-regime...</td>\n",
       "      <td>\\nsnhr: syrian regime warplanes fired several ...</td>\n",
       "      <td>October 25, 2017</td>\n",
       "      <td>syrian regime forces shelled school in al bouk...</td>\n",
       "    </tr>\n",
       "    <tr>\n",
       "      <th>2</th>\n",
       "      <td>http://sn4hr.org/blog/2017/10/18/syrian-regime...</td>\n",
       "      <td>\\nsnhr: syrian regime warplanes fired missiles...</td>\n",
       "      <td>October 18, 2017</td>\n",
       "      <td>syrian regime forces shelled hamoud al dabet s...</td>\n",
       "    </tr>\n",
       "    <tr>\n",
       "      <th>3</th>\n",
       "      <td>http://sn4hr.org/blog/2017/10/15/suspected-rus...</td>\n",
       "      <td>\\nsnhr: suspected russian warplanes fired miss...</td>\n",
       "      <td>October 15, 2017</td>\n",
       "      <td>suspected russian forces shelled tahtaya prima...</td>\n",
       "    </tr>\n",
       "    <tr>\n",
       "      <th>4</th>\n",
       "      <td>http://sn4hr.org/blog/2017/10/07/syrian-regime...</td>\n",
       "      <td>\\nsnhr: syrian regime warplanes fired missiles...</td>\n",
       "      <td>October 7, 2017</td>\n",
       "      <td>syrian regime forces shelled al hamzat school ...</td>\n",
       "    </tr>\n",
       "  </tbody>\n",
       "</table>\n",
       "</div>"
      ],
      "text/plain": [
       "                                        article_link  \\\n",
       "0  http://sn4hr.org/blog/2017/10/31/syrian-regime...   \n",
       "1  http://sn4hr.org/blog/2017/10/25/syrian-regime...   \n",
       "2  http://sn4hr.org/blog/2017/10/18/syrian-regime...   \n",
       "3  http://sn4hr.org/blog/2017/10/15/suspected-rus...   \n",
       "4  http://sn4hr.org/blog/2017/10/07/syrian-regime...   \n",
       "\n",
       "                                           body_text          pub_date  \\\n",
       "0  \\nsnhr: syrian regime artillery fired shells i...  October 31, 2017   \n",
       "1  \\nsnhr: syrian regime warplanes fired several ...  October 25, 2017   \n",
       "2  \\nsnhr: syrian regime warplanes fired missiles...  October 18, 2017   \n",
       "3  \\nsnhr: suspected russian warplanes fired miss...  October 15, 2017   \n",
       "4  \\nsnhr: syrian regime warplanes fired missiles...   October 7, 2017   \n",
       "\n",
       "                                               title  \n",
       "0  syrian regime forces shelled mohammad naser as...  \n",
       "1  syrian regime forces shelled school in al bouk...  \n",
       "2  syrian regime forces shelled hamoud al dabet s...  \n",
       "3  suspected russian forces shelled tahtaya prima...  \n",
       "4  syrian regime forces shelled al hamzat school ...  "
      ]
     },
     "execution_count": 26,
     "metadata": {},
     "output_type": "execute_result"
    }
   ],
   "source": [
    "df.head()"
   ]
  },
  {
   "cell_type": "code",
   "execution_count": 27,
   "metadata": {},
   "outputs": [
    {
     "data": {
      "text/plain": [
       "314"
      ]
     },
     "execution_count": 27,
     "metadata": {},
     "output_type": "execute_result"
    }
   ],
   "source": [
    "len(df)"
   ]
  },
  {
   "cell_type": "code",
   "execution_count": 28,
   "metadata": {
    "collapsed": true
   },
   "outputs": [],
   "source": [
    "df_2 = pd.DataFrame(results)"
   ]
  },
  {
   "cell_type": "code",
   "execution_count": 30,
   "metadata": {},
   "outputs": [
    {
     "data": {
      "text/html": [
       "<div>\n",
       "<style>\n",
       "    .dataframe thead tr:only-child th {\n",
       "        text-align: right;\n",
       "    }\n",
       "\n",
       "    .dataframe thead th {\n",
       "        text-align: left;\n",
       "    }\n",
       "\n",
       "    .dataframe tbody tr th {\n",
       "        vertical-align: top;\n",
       "    }\n",
       "</style>\n",
       "<table border=\"1\" class=\"dataframe\">\n",
       "  <thead>\n",
       "    <tr style=\"text-align: right;\">\n",
       "      <th></th>\n",
       "      <th>_id</th>\n",
       "      <th>article_link</th>\n",
       "      <th>article_text</th>\n",
       "      <th>article_text_lower</th>\n",
       "      <th>article_title</th>\n",
       "      <th>date_published</th>\n",
       "      <th>title_lowercase</th>\n",
       "      <th>unique_key</th>\n",
       "    </tr>\n",
       "  </thead>\n",
       "  <tbody>\n",
       "    <tr>\n",
       "      <th>0</th>\n",
       "      <td>5a00ed35a7ef13cc160754d1</td>\n",
       "      <td>http://sn4hr.org/blog/2017/10/31/syrian-regime...</td>\n",
       "      <td>\\nSNHR: Syrian regime artillery fired shells i...</td>\n",
       "      <td>\\nsnhr: syrian regime artillery fired shells i...</td>\n",
       "      <td>Syrian regime forces shelled Mohammad Naser As...</td>\n",
       "      <td>October 31, 2017</td>\n",
       "      <td>syrian regime forces shelled mohammad naser as...</td>\n",
       "      <td>Syrian regime forces shelled Mohammad Naser As...</td>\n",
       "    </tr>\n",
       "    <tr>\n",
       "      <th>1</th>\n",
       "      <td>5a00ed36a7ef13cc160754d2</td>\n",
       "      <td>http://sn4hr.org/blog/2017/10/25/syrian-regime...</td>\n",
       "      <td>\\nSNHR: Syrian regime warplanes fired several ...</td>\n",
       "      <td>\\nsnhr: syrian regime warplanes fired several ...</td>\n",
       "      <td>Syrian regime forces shelled school in al Bouk...</td>\n",
       "      <td>October 25, 2017</td>\n",
       "      <td>syrian regime forces shelled school in al bouk...</td>\n",
       "      <td>Syrian regime forces shelled school in al Bouk...</td>\n",
       "    </tr>\n",
       "    <tr>\n",
       "      <th>2</th>\n",
       "      <td>5a00ed37a7ef13cc160754d3</td>\n",
       "      <td>http://sn4hr.org/blog/2017/10/18/syrian-regime...</td>\n",
       "      <td>\\nSNHR: Syrian regime warplanes fired missiles...</td>\n",
       "      <td>\\nsnhr: syrian regime warplanes fired missiles...</td>\n",
       "      <td>Syrian regime forces shelled Hamoud al Dabet S...</td>\n",
       "      <td>October 18, 2017</td>\n",
       "      <td>syrian regime forces shelled hamoud al dabet s...</td>\n",
       "      <td>Syrian regime forces shelled Hamoud al Dabet S...</td>\n",
       "    </tr>\n",
       "    <tr>\n",
       "      <th>3</th>\n",
       "      <td>5a00ed37a7ef13cc160754d4</td>\n",
       "      <td>http://sn4hr.org/blog/2017/10/15/suspected-rus...</td>\n",
       "      <td>\\nSNHR: suspected Russian warplanes fired miss...</td>\n",
       "      <td>\\nsnhr: suspected russian warplanes fired miss...</td>\n",
       "      <td>Suspected Russian forces shelled Tahtaya Prima...</td>\n",
       "      <td>October 15, 2017</td>\n",
       "      <td>suspected russian forces shelled tahtaya prima...</td>\n",
       "      <td>Suspected Russian forces shelled Tahtaya Prima...</td>\n",
       "    </tr>\n",
       "    <tr>\n",
       "      <th>4</th>\n",
       "      <td>5a00ed3aa7ef13cc160754d6</td>\n",
       "      <td>http://sn4hr.org/blog/2017/10/07/syrian-regime...</td>\n",
       "      <td>\\nSNHR: Syrian regime warplanes fired missiles...</td>\n",
       "      <td>\\nsnhr: syrian regime warplanes fired missiles...</td>\n",
       "      <td>Syrian regime forces shelled al Hamzat school ...</td>\n",
       "      <td>October 7, 2017</td>\n",
       "      <td>syrian regime forces shelled al hamzat school ...</td>\n",
       "      <td>Syrian regime forces shelled al Hamzat school ...</td>\n",
       "    </tr>\n",
       "  </tbody>\n",
       "</table>\n",
       "</div>"
      ],
      "text/plain": [
       "                        _id  \\\n",
       "0  5a00ed35a7ef13cc160754d1   \n",
       "1  5a00ed36a7ef13cc160754d2   \n",
       "2  5a00ed37a7ef13cc160754d3   \n",
       "3  5a00ed37a7ef13cc160754d4   \n",
       "4  5a00ed3aa7ef13cc160754d6   \n",
       "\n",
       "                                        article_link  \\\n",
       "0  http://sn4hr.org/blog/2017/10/31/syrian-regime...   \n",
       "1  http://sn4hr.org/blog/2017/10/25/syrian-regime...   \n",
       "2  http://sn4hr.org/blog/2017/10/18/syrian-regime...   \n",
       "3  http://sn4hr.org/blog/2017/10/15/suspected-rus...   \n",
       "4  http://sn4hr.org/blog/2017/10/07/syrian-regime...   \n",
       "\n",
       "                                        article_text  \\\n",
       "0  \\nSNHR: Syrian regime artillery fired shells i...   \n",
       "1  \\nSNHR: Syrian regime warplanes fired several ...   \n",
       "2  \\nSNHR: Syrian regime warplanes fired missiles...   \n",
       "3  \\nSNHR: suspected Russian warplanes fired miss...   \n",
       "4  \\nSNHR: Syrian regime warplanes fired missiles...   \n",
       "\n",
       "                                  article_text_lower  \\\n",
       "0  \\nsnhr: syrian regime artillery fired shells i...   \n",
       "1  \\nsnhr: syrian regime warplanes fired several ...   \n",
       "2  \\nsnhr: syrian regime warplanes fired missiles...   \n",
       "3  \\nsnhr: suspected russian warplanes fired miss...   \n",
       "4  \\nsnhr: syrian regime warplanes fired missiles...   \n",
       "\n",
       "                                       article_title    date_published  \\\n",
       "0  Syrian regime forces shelled Mohammad Naser As...  October 31, 2017   \n",
       "1  Syrian regime forces shelled school in al Bouk...  October 25, 2017   \n",
       "2  Syrian regime forces shelled Hamoud al Dabet S...  October 18, 2017   \n",
       "3  Suspected Russian forces shelled Tahtaya Prima...  October 15, 2017   \n",
       "4  Syrian regime forces shelled al Hamzat school ...   October 7, 2017   \n",
       "\n",
       "                                     title_lowercase  \\\n",
       "0  syrian regime forces shelled mohammad naser as...   \n",
       "1  syrian regime forces shelled school in al bouk...   \n",
       "2  syrian regime forces shelled hamoud al dabet s...   \n",
       "3  suspected russian forces shelled tahtaya prima...   \n",
       "4  syrian regime forces shelled al hamzat school ...   \n",
       "\n",
       "                                          unique_key  \n",
       "0  Syrian regime forces shelled Mohammad Naser As...  \n",
       "1  Syrian regime forces shelled school in al Bouk...  \n",
       "2  Syrian regime forces shelled Hamoud al Dabet S...  \n",
       "3  Suspected Russian forces shelled Tahtaya Prima...  \n",
       "4  Syrian regime forces shelled al Hamzat school ...  "
      ]
     },
     "execution_count": 30,
     "metadata": {},
     "output_type": "execute_result"
    }
   ],
   "source": [
    "df_2.head()"
   ]
  },
  {
   "cell_type": "code",
   "execution_count": null,
   "metadata": {
    "collapsed": true
   },
   "outputs": [],
   "source": []
  }
 ],
 "metadata": {
  "kernelspec": {
   "display_name": "Python [conda env:PythonData]",
   "language": "python",
   "name": "conda-env-PythonData-py"
  },
  "language_info": {
   "codemirror_mode": {
    "name": "ipython",
    "version": 3
   },
   "file_extension": ".py",
   "mimetype": "text/x-python",
   "name": "python",
   "nbconvert_exporter": "python",
   "pygments_lexer": "ipython3",
   "version": "3.6.1"
  }
 },
 "nbformat": 4,
 "nbformat_minor": 2
}
